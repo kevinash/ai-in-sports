{
 "cells": [
  {
   "cell_type": "markdown",
   "metadata": {},
   "source": [
    "# AI in Sports with Python\n",
    "\n",
    "[VIDEO EPISODES](http://ai-learning.vhx.tv)\n",
    "\n",
    "This video course works best with my book \"Applied Machine Learning for Health and Fitness\". Check my website: [activefitness.ai/ai-in-sports-with-python](http://activefitness.ai/ai-in-sports-with-python) for the latest updates.\n",
    "\n",
    "![http://activefitness.ai](images/appliedml_banner.PNG)\n",
    "\n",
    "## Table of Contents\n",
    "\n",
    "Welcome! Each This is the source code for the book: you can quickly jump to notebooks from this file. It is recommended that your kernel environment matches the chapter\n",
    "\n",
    "- Module 1 - Getting Started\n",
    "    - Episode 1.1 - Getting Started\n",
    "    - Episode 1.2 - Data Scientist Toolbox\n",
    "- Module 2 - Physics of Sports\n",
    "    - Episode 2.1 - Sensors\n",
    "    - [Episode 2.2 - Kinematics](4_Kinematics.ipynb)\n",
    "    - [Episode 2.3 - Figure Skating](5_FigureSkating.ipynb)\n",
    "- Module 3 - Neural Networks\n",
    "    - [Episode 3.1 - Neural Networks](3.1_NeuralNetworks.ipynb)\n",
    "    - [Episode 3.2 - Simple Neural Network](3.2_SimpleNeuralNetwork.ipynb)\n",
    "    - [Episode 3.3 - Multi-Layer Neural Network](3.3_Multi-LayerNetworks.ipynb)\n",
    "- Module 4 - Deep Vision\n",
    "    - [Episode 4.1 - Computer Vision](4.1_ComputerVision.ipynb)\n",
    "    - [Episode 4.2 - Classification](4.2_Classification.ipynb)\n",
    "    - [Episode 4.3 - Detection](4.3_Detection.ipynb)\n",
    "    - [Episode 4.4 - Segmentation](4.4_Segmentation.ipynb)\n",
    "    - [Episode 4.5 - Human Body Joints](4.5_HumanBodyKeypoints.ipynb)\n",
    "- Module 5 - Human Body Pose Estimation\n",
    "- Module 6 - Video Action Recognition \n",
    "- Module 7  - Reinforcement Learning\n",
    "    - [Episode 7.1 - Reinforcement Learning](7.1_ReinforcementLearning.ipynb)\n",
    "    - [Episode 7.2 - Skateboarding](7.2_Skateboarding.ipynb)\n",
    "    - [Episode 7.3 - Gymnastics](7.3_Gymnastics.ipynb)\n",
    "    - [Episode 7.4 - Human Models](7.4_HumanModels.ipynb)\n",
    "- Module 8 - Machine Learning in the Cloud"
   ]
  },
  {
   "cell_type": "code",
   "execution_count": null,
   "metadata": {},
   "outputs": [],
   "source": []
  }
 ],
 "metadata": {
  "kernelspec": {
   "display_name": "rl",
   "language": "python",
   "name": "rl"
  },
  "language_info": {
   "codemirror_mode": {
    "name": "ipython",
    "version": 3
   },
   "file_extension": ".py",
   "mimetype": "text/x-python",
   "name": "python",
   "nbconvert_exporter": "python",
   "pygments_lexer": "ipython3",
   "version": "3.7.5"
  }
 },
 "nbformat": 4,
 "nbformat_minor": 4
}
