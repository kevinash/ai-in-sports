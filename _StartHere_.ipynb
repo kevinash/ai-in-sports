{
 "cells": [
  {
   "cell_type": "markdown",
   "metadata": {},
   "source": [
    "# AI in Sports with Python\n",
    "\n",
    "[VIDEO EPISODES](http://ai-learning.vhx.tv)\n",
    "\n",
    "This video course works best with my book \"Applied Machine Learning for Health and Fitness\". Check my website: [activefitness.ai/ai-in-sports-with-python](http://activefitness.ai/ai-in-sports-with-python) for the latest updates.\n",
    "\n",
    "![http://activefitness.ai](images/ai-in-sports_banner.PNG)\n",
    "\n",
    "## Table of Contents\n",
    "\n",
    "Please, use these supplemental materials and code for the video course [AI in Sports with Python](http://ai-learning.vhx.tv). \n",
    "\n",
    "[Complete list of videos](https://ai-learning.vhx.tv/products/ai-in-sports-with-python), you can also navigate to individual videos and notebooks below.\n",
    "\n",
    "For notebooks, it is recommended that your kernel environment is set to Python 3. Check [requirements.txt](requirements.txt) for dependencies.\n",
    "\n",
    "- Module 1 - Getting Started\n",
    "    - Episode 1.1 - Getting Started ([Video](https://ai-learning.vhx.tv/packages/ai-in-sports-with-python/videos/episode-10-4-human-models))\n",
    "    - Episode 1.2 - Sport Scientist Toolbox ([Video](https://ai-learning.vhx.tv/packages/ai-in-sports-with-python/videos/episode-10-4-human-models) | [Notebook](1.2_SportScientistToolbox.ipynb))\n",
    "- Module 2 - Physics of Sports\n",
    "    - Episode 2.1 - Sensors\n",
    "    - Episode 2.2 - Kinematics ([Video](https://ai-learning.vhx.tv/packages/ai-in-sports-with-python/videos/episode-2-2-kinematics) | [Notebook](2.2_Kinematics.ipynb))\n",
    "    - Episode 2.3 - Figure Skating ([Video](https://ai-learning.vhx.tv/packages/ai-in-sports-with-python/videos/episode-2-3-figure-skating) | [Notebook](2.3_FigureSkating.ipynb))\n",
    "- Module 3 - Neural Networks\n",
    "    - Episode 3.1 - Neural Networks ([Video](https://ai-learning.vhx.tv/packages/ai-in-sports-with-python/videos/episode-4-1-neural-networks-101) | [Notebook](3.1_NeuralNetworks101.ipynb))\n",
    "    - Episode 3.2 - Simple Neural Network ([Video](https://ai-learning.vhx.tv/packages/ai-in-sports-with-python/videos/episode-4-2-make-a-simple-neural-net) | [Notebook](3.2_SimpleNeuralNetwork.ipynb))\n",
    "    - Episode 3.3 - Multi-Layer Neural Network ([Video](https://ai-learning.vhx.tv/packages/ai-in-sports-with-python/videos/amlhf-ch4-3-multilayernetworks) | [Notebook](3.3_Multi-LayerNetworks.ipynb))\n",
    "- Module 4 - Deep Vision\n",
    "    - Episode 4.1 - Computer Vision ([Video](https://ai-learning.vhx.tv/packages/ai-in-sports-with-python/videos/amlhf-ch6-1-computervision) | [Notebook](4.1_ComputerVision.ipynb))\n",
    "    - Episode 4.2 - Classification ([Video](https://ai-learning.vhx.tv/packages/ai-in-sports-with-python/videos/amlhf-ch6-2-classification) | [Notebook](4.2_Classification.ipynb))\n",
    "    - Episode 4.3 - Detection ([Video](https://ai-learning.vhx.tv/packages/ai-in-sports-with-python/videos/amlhf-ch6-3-detection) | [Notebook](4.3_Detection.ipynb))\n",
    "    - Episode 4.4 - Segmentation ([Video](https://ai-learning.vhx.tv/packages/ai-in-sports-with-python/videos/amlhf-ch6-4-segmentation) | [Notebook](4.4_Segmentation.ipynb))\n",
    "    - Episode 4.5 - Human Body Joints ([Video](https://ai-learning.vhx.tv/packages/ai-in-sports-with-python/videos/ai-in-sports-ep-4-5-humanjoints) | [Notebook](4.5_HumanBodyKeypoints.ipynb))\n",
    "- Module 5 - Pose Estimation\n",
    "    - Episode 5.1 - Introducing Pose Estimation ([Video](https://ai-learning.vhx.tv/packages/ai-in-sports-with-python/videos/ai-in-sports-ep-5-1-poseestimation))\n",
    "    - Episode 5.2 - Surfing ([Video](https://ai-learning.vhx.tv/packages/ai-in-sports-with-python/videos/ai-in-sports-ep-5-2-surfing) | [Notebook](5.2_Surfing.ipynb))\n",
    "    - Episode 5.3 - Skill Level Detection ([Video](https://ai-learning.vhx.tv/packages/ai-in-sports-with-python/videos/ai-in-sports-ep-4-5-humanjoints) | [Notebook](5.3_SkillLevelDetection.ipynb))\n",
    "    - Episode 5.4 - Multi-Person Detection ([Video](https://ai-learning.vhx.tv/packages/ai-in-sports-with-python/videos/ai-in-sports-ep-5-4-multipersondetection) | [Notebook](5.4_Multi-PersonDetection.ipynb))\n",
    "- Module 6 - Video Action Recognition \n",
    "    - Episode 6.1 - Video Action Recognition ([Video](https://ai-learning.vhx.tv/packages/ai-in-sports-with-python/videos/ai-in-sports-ep-6-1-videoactionrecognition) | [Notebook](6.1_VideoActionRecognition.ipynb))\n",
    "    - Episode 6.2 - Video Classification ([Video](https://ai-learning.vhx.tv/packages/ai-in-sports-with-python/videos/ai-in-sports-ep-6-2-videoclassification) | [Notebook](6.2_VideoClassification.ipynb))\n",
    "- Module 7  - Reinforcement Learning\n",
    "    - Episode 7.1 - Reinforcement Learning ([Video](https://ai-learning.vhx.tv/packages/ai-in-sports-with-python/videos/episode-10-1-reinforcement-learning) | [Notebook](7.1_ReinforcementLearning.ipynb))\n",
    "    - Episode 7.2 - Skateboarding ([Video](https://ai-learning.vhx.tv/packages/ai-in-sports-with-python/videos/episode-10-2-skateboarding) | [Notebook](7.2_Skateboarding.ipynb))\n",
    "    - Episode 7.3 - Gymnastics ([Video](https://ai-learning.vhx.tv/packages/ai-in-sports-with-python/videos/episode-10-3-gymnastics) | [Notebook](7.3_Gymnastics.ipynb))\n",
    "    - Episode 7.4 - Human Models ([Video](https://ai-learning.vhx.tv/packages/ai-in-sports-with-python/videos/episode-10-4-human-models) | [Notebook](7.4_HumanModels.ipynb))\n",
    "- Module 8 - Machine Learning in the Cloud\n",
    "    - Episode 8.1 - Machine Learning in the Cloud ([Video](https://ai-learning.vhx.tv/packages/ai-in-sports-with-python/videos/episode-10-4-human-models) | [Notebook](8.1_CloudBasedAI.ipynb))\n",
    "    - Episode 8.2 - Automating, Consuming ML, Pipelines ([Video](https://ai-learning.vhx.tv/packages/ai-in-sports-with-python/videos/episode-10-4-human-models) | [Notebook](8.2_MLAutomation.ipynb))"
   ]
  }
 ],
 "metadata": {
  "kernelspec": {
   "display_name": "rl",
   "language": "python",
   "name": "rl"
  },
  "language_info": {
   "codemirror_mode": {
    "name": "ipython",
    "version": 3
   },
   "file_extension": ".py",
   "mimetype": "text/x-python",
   "name": "python",
   "nbconvert_exporter": "python",
   "pygments_lexer": "ipython3",
   "version": "3.7.5"
  }
 },
 "nbformat": 4,
 "nbformat_minor": 4
}
