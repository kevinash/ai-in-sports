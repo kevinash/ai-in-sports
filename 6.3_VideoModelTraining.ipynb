{
 "cells": [
  {
   "cell_type": "markdown",
   "metadata": {},
   "source": [
    "# 6.3 Training Models\n",
    "\n",
    "Module 6 - Video Action Recognition\n",
    "\n",
    "For book, references and training materials, please check this project website [http://activefitness.ai/ai-in-sports-with-python](http://activefitness.ai/ai-in-sports-with-python).\n",
    "\n",
    "Book: [Applied Machine Learning for Health and Fitness](https://www.apress.com/us/book/9781484257715), Chapter 9"
   ]
  },
  {
   "cell_type": "code",
   "execution_count": 12,
   "metadata": {},
   "outputs": [
    {
     "name": "stdout",
     "output_type": "stream",
     "text": [
      "cuda\n"
     ]
    }
   ],
   "source": [
    "import torch\n",
    "import torchvision\n",
    "import torchvision.models as models    \n",
    "\n",
    "# check if cuda is available\n",
    "device = torch.device(\"cuda\" if torch.cuda.is_available() else \"cpu\")\n",
    "print(device)"
   ]
  },
  {
   "cell_type": "code",
   "execution_count": 17,
   "metadata": {},
   "outputs": [],
   "source": [
    "import torch\n",
    "import torchvision\n",
    "import torchvision.models as models  \n",
    "\n",
    "# Normalization: Kinetics 400\n",
    "mean = [0.43216, 0.394666, 0.37645]  \n",
    "std = [0.22803, 0.22145, 0.216989] \n",
    "\n",
    "def normalize(video): \n",
    "    return video.permute(3, 0, 1, 2).to(torch.float32) / 255\n",
    "\n",
    "def resize(video, size): \n",
    "    return torch.nn.functional.interpolate(video, size=size, scale_factor=None, mode='bilinear', align_corners=False)\n",
    "\n",
    "def crop(video, output_size): \n",
    "    # center crop    \n",
    "    h, w = video.shape[-2:] \n",
    "    th, tw = output_size \n",
    "    i = int(round((h - th) / 2.)) \n",
    "    j = int(round((w - tw) / 2.)) \n",
    "    return video[..., i:(i + th), j:(j + tw)]\n",
    "\n",
    "def normalize_base(video, mean, std): \n",
    "    shape = (-1,) + (1,) * (video.dim() - 1) \n",
    "    mean = torch.as_tensor(mean).reshape(shape) \n",
    "    std = torch.as_tensor(std).reshape(shape) \n",
    "    return (video - mean) / std"
   ]
  },
  {
   "cell_type": "code",
   "execution_count": 23,
   "metadata": {},
   "outputs": [
    {
     "name": "stdout",
     "output_type": "stream",
     "text": [
      "torch.Size([195, 720, 1280, 3]) torch.Size([2, 311296]) {'video_fps': 29.97002997002997, 'audio_fps': 48000}\n"
     ]
    }
   ],
   "source": [
    "import torchvision.io \n",
    "video_file = 'media/surfing_backflip.mp4'\n",
    "video, audio, info = torchvision.io.read_video(video_file, pts_unit='sec') \n",
    "print(video.shape, audio.shape, info)"
   ]
  },
  {
   "cell_type": "code",
   "execution_count": 24,
   "metadata": {},
   "outputs": [
    {
     "name": "stdout",
     "output_type": "stream",
     "text": [
      "frames 3, size 195 112\n"
     ]
    }
   ],
   "source": [
    "video = normalize(video) \n",
    "video = resize(video,(128, 171)) \n",
    "video = crop(video,(112, 112)) \n",
    "video = normalize_base(video, mean=mean, std=std)\n",
    "shape = video.shape\n",
    "print(f'frames {shape[0]}, size {shape[1]} {shape[2]}') "
   ]
  },
  {
   "cell_type": "code",
   "execution_count": 25,
   "metadata": {},
   "outputs": [
    {
     "name": "stdout",
     "output_type": "stream",
     "text": [
      "tensor(337)\n"
     ]
    }
   ],
   "source": [
    "# score the video\n",
    "score = model(video.unsqueeze(0)) \n",
    "# get prediction with max score\n",
    "prediction = score.argmax() \n",
    "print(prediction)"
   ]
  },
  {
   "cell_type": "code",
   "execution_count": 26,
   "metadata": {},
   "outputs": [
    {
     "name": "stdout",
     "output_type": "stream",
     "text": [
      "surfing water\n"
     ]
    }
   ],
   "source": [
    "from utils.kinetics import kinetics\n",
    "classes = kinetics.classes()\n",
    "print(classes[prediction.item()])"
   ]
  },
  {
   "cell_type": "code",
   "execution_count": 27,
   "metadata": {},
   "outputs": [],
   "source": [
    "import torch\n",
    "import torch.nn as nn\n",
    "import torchvision\n",
    "import torchvision.models as models\n",
    "from torch.utils.data import DataLoader as DataLoader\n",
    "from torchvision import transforms\n",
    "from torchvision.datasets.kinetics import Kinetics400\n",
    "from torchvision.datasets.samplers import DistributedSampler, UniformClipSampler, RandomClipSampler\n",
    "import matplotlib.pyplot as plt\n",
    "from pathlib import Path\n",
    "\n",
    "Path.ls = lambda x: [o.name for o in x.iterdir()]\n",
    "from torchvision.io.video import read_video\n",
    "from functools import partial as partial\n",
    "read_video = partial(read_video, pts_unit='sec')\n",
    "torchvision.io.read_video = partial(torchvision.io.read_video, pts_unit = 'sec')"
   ]
  },
  {
   "cell_type": "code",
   "execution_count": 28,
   "metadata": {},
   "outputs": [],
   "source": [
    "base_dir = Path('data/kinetics400/')\n",
    "data_dir = base_dir/'dataset'"
   ]
  },
  {
   "cell_type": "code",
   "execution_count": null,
   "metadata": {},
   "outputs": [],
   "source": [
    "!tree {data_dir/'train'}"
   ]
  },
  {
   "cell_type": "code",
   "execution_count": 30,
   "metadata": {},
   "outputs": [
    {
     "name": "stderr",
     "output_type": "stream",
     "text": [
      "  0%|                                                                    | 0/41 [00:00<?, ?it/s]C:\\ProgramData\\Anaconda3\\envs\\rl\\lib\\site-packages\\torchvision\\io\\video.py:106: UserWarning: The pts_unit 'pts' gives wrong results and will be removed in a follow-up version. Please use pts_unit 'sec'.\n",
      "  warnings.warn(\"The pts_unit 'pts' gives wrong results and will be removed in a \" +\n",
      "100%|███████████████████████████████████████████████████████████| 41/41 [18:08<00:00, 26.56s/it]\n"
     ]
    }
   ],
   "source": [
    "data = torchvision.datasets.Kinetics400(\n",
    "            data_dir/'train',\n",
    "            frames_per_clip=32,\n",
    "            step_between_clips=1,\n",
    "            frame_rate=None,\n",
    "            extensions=('mp4',),\n",
    "            num_workers=0\n",
    "        )"
   ]
  },
  {
   "cell_type": "code",
   "execution_count": 31,
   "metadata": {},
   "outputs": [
    {
     "name": "stdout",
     "output_type": "stream",
     "text": [
      "torch.Size([32, 480, 272, 3])\n"
     ]
    }
   ],
   "source": [
    "print((data[0][0]).shape)"
   ]
  },
  {
   "cell_type": "markdown",
   "metadata": {},
   "source": [
    "### Visualizing dataset\n"
   ]
  },
  {
   "cell_type": "code",
   "execution_count": 32,
   "metadata": {},
   "outputs": [
    {
     "name": "stdout",
     "output_type": "stream",
     "text": [
      "Length: 153939\n"
     ]
    },
    {
     "data": {
      "text/html": [
       "<div>\n",
       "<style scoped>\n",
       "    .dataframe tbody tr th:only-of-type {\n",
       "        vertical-align: middle;\n",
       "    }\n",
       "\n",
       "    .dataframe tbody tr th {\n",
       "        vertical-align: top;\n",
       "    }\n",
       "\n",
       "    .dataframe thead th {\n",
       "        text-align: right;\n",
       "    }\n",
       "</style>\n",
       "<table border=\"1\" class=\"dataframe\">\n",
       "  <thead>\n",
       "    <tr style=\"text-align: right;\">\n",
       "      <th></th>\n",
       "      <th>filepath</th>\n",
       "      <th>frames</th>\n",
       "      <th>fps</th>\n",
       "      <th>clips</th>\n",
       "    </tr>\n",
       "  </thead>\n",
       "  <tbody>\n",
       "    <tr>\n",
       "      <th>0</th>\n",
       "      <td>data\\kinetics400\\dataset\\train\\playing_tennis\\...</td>\n",
       "      <td>300</td>\n",
       "      <td>30.000000</td>\n",
       "      <td>269</td>\n",
       "    </tr>\n",
       "    <tr>\n",
       "      <th>1</th>\n",
       "      <td>data\\kinetics400\\dataset\\train\\playing_tennis\\...</td>\n",
       "      <td>140</td>\n",
       "      <td>14.000000</td>\n",
       "      <td>109</td>\n",
       "    </tr>\n",
       "    <tr>\n",
       "      <th>2</th>\n",
       "      <td>data\\kinetics400\\dataset\\train\\playing_tennis\\...</td>\n",
       "      <td>100</td>\n",
       "      <td>10.000000</td>\n",
       "      <td>69</td>\n",
       "    </tr>\n",
       "    <tr>\n",
       "      <th>3</th>\n",
       "      <td>data\\kinetics400\\dataset\\train\\playing_tennis\\...</td>\n",
       "      <td>100</td>\n",
       "      <td>10.000000</td>\n",
       "      <td>69</td>\n",
       "    </tr>\n",
       "    <tr>\n",
       "      <th>4</th>\n",
       "      <td>data\\kinetics400\\dataset\\train\\playing_tennis\\...</td>\n",
       "      <td>89</td>\n",
       "      <td>15.000000</td>\n",
       "      <td>58</td>\n",
       "    </tr>\n",
       "    <tr>\n",
       "      <th>...</th>\n",
       "      <td>...</td>\n",
       "      <td>...</td>\n",
       "      <td>...</td>\n",
       "      <td>...</td>\n",
       "    </tr>\n",
       "    <tr>\n",
       "      <th>640</th>\n",
       "      <td>data\\kinetics400\\dataset\\train\\surfing_water\\c...</td>\n",
       "      <td>300</td>\n",
       "      <td>29.970030</td>\n",
       "      <td>269</td>\n",
       "    </tr>\n",
       "    <tr>\n",
       "      <th>641</th>\n",
       "      <td>data\\kinetics400\\dataset\\train\\surfing_water\\c...</td>\n",
       "      <td>240</td>\n",
       "      <td>23.974427</td>\n",
       "      <td>209</td>\n",
       "    </tr>\n",
       "    <tr>\n",
       "      <th>642</th>\n",
       "      <td>data\\kinetics400\\dataset\\train\\surfing_water\\c...</td>\n",
       "      <td>300</td>\n",
       "      <td>29.970030</td>\n",
       "      <td>269</td>\n",
       "    </tr>\n",
       "    <tr>\n",
       "      <th>643</th>\n",
       "      <td>data\\kinetics400\\dataset\\train\\surfing_water\\c...</td>\n",
       "      <td>250</td>\n",
       "      <td>25.000000</td>\n",
       "      <td>219</td>\n",
       "    </tr>\n",
       "    <tr>\n",
       "      <th>644</th>\n",
       "      <td>data\\kinetics400\\dataset\\train\\surfing_water\\c...</td>\n",
       "      <td>250</td>\n",
       "      <td>25.002519</td>\n",
       "      <td>219</td>\n",
       "    </tr>\n",
       "  </tbody>\n",
       "</table>\n",
       "<p>645 rows × 4 columns</p>\n",
       "</div>"
      ],
      "text/plain": [
       "                                              filepath  frames        fps  \\\n",
       "0    data\\kinetics400\\dataset\\train\\playing_tennis\\...     300  30.000000   \n",
       "1    data\\kinetics400\\dataset\\train\\playing_tennis\\...     140  14.000000   \n",
       "2    data\\kinetics400\\dataset\\train\\playing_tennis\\...     100  10.000000   \n",
       "3    data\\kinetics400\\dataset\\train\\playing_tennis\\...     100  10.000000   \n",
       "4    data\\kinetics400\\dataset\\train\\playing_tennis\\...      89  15.000000   \n",
       "..                                                 ...     ...        ...   \n",
       "640  data\\kinetics400\\dataset\\train\\surfing_water\\c...     300  29.970030   \n",
       "641  data\\kinetics400\\dataset\\train\\surfing_water\\c...     240  23.974427   \n",
       "642  data\\kinetics400\\dataset\\train\\surfing_water\\c...     300  29.970030   \n",
       "643  data\\kinetics400\\dataset\\train\\surfing_water\\c...     250  25.000000   \n",
       "644  data\\kinetics400\\dataset\\train\\surfing_water\\c...     250  25.002519   \n",
       "\n",
       "     clips  \n",
       "0      269  \n",
       "1      109  \n",
       "2       69  \n",
       "3       69  \n",
       "4       58  \n",
       "..     ...  \n",
       "640    269  \n",
       "641    209  \n",
       "642    269  \n",
       "643    219  \n",
       "644    219  \n",
       "\n",
       "[645 rows x 4 columns]"
      ]
     },
     "execution_count": 32,
     "metadata": {},
     "output_type": "execute_result"
    }
   ],
   "source": [
    "import pandas as pd\n",
    "from utils.video_classification.helpers import to_dataframe\n",
    "\n",
    "to_dataframe(data)"
   ]
  },
  {
   "cell_type": "code",
   "execution_count": 33,
   "metadata": {},
   "outputs": [
    {
     "name": "stdout",
     "output_type": "stream",
     "text": [
      "Length: 153939\n"
     ]
    }
   ],
   "source": [
    "VIDEO_NUMBER = 130\n",
    "video_table = to_dataframe(data)\n",
    "video_info = video_table['filepath'][VIDEO_NUMBER]"
   ]
  },
  {
   "cell_type": "code",
   "execution_count": 34,
   "metadata": {},
   "outputs": [
    {
     "data": {
      "text/html": [
       "<video src=\"data\\kinetics400\\dataset\\train\\playing_tennis\\SNbQWJoCvo8.mp4\" controls  width=\"400\" >\n",
       "      Your browser does not support the <code>video</code> element.\n",
       "    </video>"
      ],
      "text/plain": [
       "<IPython.core.display.Video object>"
      ]
     },
     "execution_count": 34,
     "metadata": {},
     "output_type": "execute_result"
    }
   ],
   "source": [
    "from IPython.display import Video\n",
    "from IPython.core.interactiveshell import InteractiveShell\n",
    "InteractiveShell.ast_node_interactivity = \"all\"\n",
    "\n",
    "Video(video_info, width=400, embed=False)"
   ]
  },
  {
   "cell_type": "code",
   "execution_count": 37,
   "metadata": {},
   "outputs": [
    {
     "data": {
      "image/png": "[encoded data removed]",
      "text/plain": [
       "<Figure size 432x288 with 1 Axes>"
      ]
     },
     "metadata": {
      "needs_background": "light"
     },
     "output_type": "display_data"
    },
    {
     "data": {
      "image/png": "[encoded data removed]",
      "text/plain": [
       "<Figure size 432x288 with 1 Axes>"
      ]
     },
     "metadata": {
      "needs_background": "light"
     },
     "output_type": "display_data"
    }
   ],
   "source": [
    "def show_clip_start_end(f):\n",
    "    last = len(f)\n",
    "    plt.imshow(f[0])\n",
    "    plt.title(f'frame: 1')\n",
    "    plt.axis('off')\n",
    "    plt.show()\n",
    "    plt.imshow(f[last-1])\n",
    "    plt.title(f'frame: {last}')\n",
    "    plt.axis('off')\n",
    "    plt.show()\n",
    "\n",
    "show_clip_start_end(data[0][0])"
   ]
  },
  {
   "cell_type": "markdown",
   "metadata": {},
   "source": [
    "## Video normalization\n",
    "\n"
   ]
  },
  {
   "cell_type": "code",
   "execution_count": 43,
   "metadata": {},
   "outputs": [],
   "source": [
    "import utils.video_classification.transforms as T\n",
    "\n",
    "t = torchvision.transforms.Compose([\n",
    "        T.ToFloatTensorInZeroOne(),\n",
    "        T.Resize((128, 171)),\n",
    "        T.RandomHorizontalFlip(),\n",
    "        T.Normalize(mean=[0.43216, 0.394666, 0.37645],\n",
    "                            std=[0.22803, 0.22145, 0.216989]),\n",
    "        T.RandomCrop((112, 112))\n",
    "    ])"
   ]
  },
  {
   "cell_type": "code",
   "execution_count": 44,
   "metadata": {},
   "outputs": [
    {
     "name": "stderr",
     "output_type": "stream",
     "text": [
      "100%|███████████████████████████████████████████████████████████████████████| 10/10 [00:39<00:00,  3.97s/it]\n"
     ]
    }
   ],
   "source": [
    "train_data = torchvision.datasets.Kinetics400(\n",
    "            data_dir/'train',\n",
    "            frames_per_clip=32,\n",
    "            step_between_clips=1,\n",
    "            frame_rate=None,\n",
    "            transform=t,\n",
    "            extensions=('mp4',),\n",
    "            num_workers=0\n",
    "        )"
   ]
  },
  {
   "cell_type": "code",
   "execution_count": 51,
   "metadata": {},
   "outputs": [],
   "source": [
    "from torch_lr_finder import LRFinder"
   ]
  },
  {
   "cell_type": "code",
   "execution_count": 49,
   "metadata": {},
   "outputs": [
    {
     "data": {
      "text/plain": [
       "(torch.Size([4, 3, 32, 112, 112]), torch.Size([4]))"
      ]
     },
     "execution_count": 49,
     "metadata": {},
     "output_type": "execute_result"
    }
   ],
   "source": [
    "from utils.video_classification.first_clip_sampler import FirstClipSampler\n",
    "from torch.utils.data.dataloader import default_collate\n",
    "\n",
    "def collate_fn(batch):\n",
    "    # remove audio from the batch\n",
    "    batch = [(d[0], d[2]) for d in batch]\n",
    "    return default_collate(batch)\n",
    "\n",
    "train_sampler = FirstClipSampler(train_data.video_clips, 2)\n",
    "train_dl = DataLoader(train_data, batch_size=4, sampler=train_sampler, collate_fn=collate_fn, pin_memory=True)\n",
    "x,y = next(iter(train_dl))\n",
    "x.shape, y.shape"
   ]
  },
  {
   "cell_type": "code",
   "execution_count": null,
   "metadata": {},
   "outputs": [],
   "source": [
    "criterion = nn.CrossEntropyLoss()\n",
    "optimizer = torch.optim.Adam(model.parameters(), lr=1e-6, weight_decay=1e-2)\n",
    "# if you are getting memory problems running this, \n",
    "# try reducing DataLoader batch_size above to 16 or even 4\n",
    "lr_finder = LRFinder(model, optimizer, criterion,device=device)\n",
    "lr_finder.range_test(train_dl, end_lr=10, num_iter=90)\n",
    "lr_finder.plot()\n",
    "lr_finder.reset()"
   ]
  },
  {
   "cell_type": "code",
   "execution_count": null,
   "metadata": {},
   "outputs": [],
   "source": [
    "train_data = torchvision.datasets.Kinetics400(\n",
    "            data_dir/'train',\n",
    "            frames_per_clip=32,\n",
    "            step_between_clips=1,\n",
    "            frame_rate=None,\n",
    "            transform=t,\n",
    "            extensions=('mp4',),\n",
    "            num_workers=0\n",
    "        )\n",
    "\n",
    "valid_data = torchvision.datasets.Kinetics400(\n",
    "            data_dir/'valid',\n",
    "            frames_per_clip=32,\n",
    "            step_between_clips=1,\n",
    "            frame_rate=None,\n",
    "            transform=t,\n",
    "            extensions=('mp4',),\n",
    "            num_workers=0\n",
    "        )"
   ]
  },
  {
   "cell_type": "code",
   "execution_count": null,
   "metadata": {},
   "outputs": [],
   "source": [
    "train_sampler = FirstClipSampler(train_data.video_clips, 2)\n",
    "train_dl = DataLoader(train_data, \n",
    "                      batch_size=4, \n",
    "                      sampler=train_sampler, \n",
    "                      collate_fn=collate_fn, \n",
    "                      pin_memory=True)\n",
    "valid_sampler = FirstClipSampler(valid_data.video_clips, 2)\n",
    "valid_dl = DataLoader(valid_data, \n",
    "                      batch_size=4, \n",
    "                      sampler=valid_sampler, \n",
    "                      collate_fn=collate_fn, pin_memory=True)"
   ]
  },
  {
   "cell_type": "code",
   "execution_count": null,
   "metadata": {},
   "outputs": [],
   "source": [
    "import os\n",
    "cache_dir = data_dir/'.cache'\n",
    "if not os.path.exists(cache_dir):\n",
    "    os.makedirs(cache_dir)\n",
    "cache_dir.ls()\n",
    "\n",
    "torch.save(train_data, f'{cache_dir}/train')\n",
    "torch.save(valid_data, f'{cache_dir}/valid')\n",
    "train_data = torch.load(cache_dir/'train')\n",
    "valid_data = torch.load(cache_dir/'valid') "
   ]
  },
  {
   "cell_type": "code",
   "execution_count": null,
   "metadata": {},
   "outputs": [],
   "source": [
    "import torch\n",
    "import torchvision\n",
    "import torchvision.models as models\n",
    "\n",
    "device = torch.device(\"cuda\" if torch.cuda.is_available() else \"cpu\")\n",
    "print(device)\n",
    "\n",
    "model = models.video.r2plus1d_18()\n",
    "model.cuda()\n",
    "lr = 1e-2\n",
    "criterion = nn.CrossEntropyLoss()\n",
    "optim = torch.optim.Adam(model.parameters(), lr)\n",
    "lr_scheduler = torch.optim.lr_scheduler.OneCycleLR(optim, max_lr=5e-1, steps_per_epoch=len(train_dl), epochs=10)\n",
    "metrics_dir = cache_dir/'train-metrics'"
   ]
  },
  {
   "cell_type": "code",
   "execution_count": null,
   "metadata": {},
   "outputs": [],
   "source": [
    "import sys\n",
    "import time\n",
    "import datetime\n",
    "from utils.video_classification.train import train_one_epoch, evaluate\n",
    "\n",
    "start_time = time.time()\n",
    " \n",
    "for epoch in range(10):\n",
    "    train_one_epoch(model, \n",
    "                    criterion, \n",
    "                    optim, \n",
    "                    lr_scheduler, \n",
    "                    train_dl, device, \n",
    "                    epoch, print_freq=100)\n",
    "    evaluate(model, \n",
    "             criterion, \n",
    "             valid_dl, \n",
    "             device)\n",
    "\n",
    "total_time = time.time() - start_time\n",
    "total_time_str = str(datetime.timedelta(seconds=int(total_time)))\n",
    "print('Training time {}'.format(total_time_str))"
   ]
  },
  {
   "cell_type": "code",
   "execution_count": null,
   "metadata": {},
   "outputs": [],
   "source": [
    "SAVED_MODEL_PATH = './videoresnet_action.pth'\n",
    "torch.save(model.state_dict(), SAVED_MODEL_PATH)"
   ]
  },
  {
   "cell_type": "code",
   "execution_count": null,
   "metadata": {},
   "outputs": [],
   "source": []
  }
 ],
 "metadata": {
  "kernelspec": {
   "display_name": "rl",
   "language": "python",
   "name": "rl"
  },
  "language_info": {
   "codemirror_mode": {
    "name": "ipython",
    "version": 3
   },
   "file_extension": ".py",
   "mimetype": "text/x-python",
   "name": "python",
   "nbconvert_exporter": "python",
   "pygments_lexer": "ipython3",
   "version": "3.7.5"
  }
 },
 "nbformat": 4,
 "nbformat_minor": 4
}
