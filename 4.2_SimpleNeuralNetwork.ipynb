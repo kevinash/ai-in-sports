{
 "cells": [
  {
   "cell_type": "markdown",
   "metadata": {},
   "source": [
    "# 4.2 Simple Neural Networks\n",
    "\n",
    "For book, references and training materials, please check this project website [http://activefitness.ai/ai-in-sports-with-python](http://activefitness.ai/ai-in-sports-with-python)."
   ]
  },
  {
   "cell_type": "markdown",
   "metadata": {},
   "source": [
    "\n",
    "## Building and training Perceptron in Python\n"
   ]
  },
  {
   "cell_type": "code",
   "execution_count": 33,
   "metadata": {},
   "outputs": [],
   "source": [
    "# simple perceptron model\n",
    "import numpy as np\n",
    "import matplotlib.pylab as plt\n",
    "%matplotlib inline\n",
    "\n",
    "class Perceptron():\n",
    "\n",
    "    def __init__(self, features):\n",
    "        np.random.seed(1) # for consistency \n",
    "        self.weights = np.zeros((features, 1)) \n",
    "        self.bias = 0\n",
    "        # alternatively: use small random numbers for weights\n",
    "        #self.weights = 0.01* np.random.randn(features, 1) \n",
    "        #self.bias = 1\n",
    "        \n",
    "    def activation(self, x):\n",
    "        return np.where(x>=0, 1, 0)\n",
    "        \n",
    "    \n",
    "    def predict(self, x):\n",
    "        return self.activation(np.dot(x, self.weights) + self.bias)\n",
    "        \n",
    "    def train(self, inputs, labels, lr=0.1, epochs=20):\n",
    "        errors = []\n",
    "        for t in range(epochs):\n",
    "            # calculate prediction\n",
    "            prediction = self.activation(np.dot(inputs, self.weights) + self.bias)\n",
    "            # adjust weights and bias\n",
    "            self.weights += lr * np.dot(inputs.T, (labels - prediction))\n",
    "            self.bias += lr * np.sum(labels - prediction)\n",
    "            # calculate loss (MSE)\n",
    "            loss = np.square(np.subtract(labels,prediction)).mean() \n",
    "            errors.append(loss)\n",
    "            print(f\"epoch {t}/{epochs} loss: {loss}\")\n",
    "            \n",
    "        plt.plot(errors)\n",
    "        plt.xlabel('epoch')\n",
    "        plt.ylabel('loss (MSE)') \n",
    "        plt.show()"
   ]
  },
  {
   "cell_type": "markdown",
   "metadata": {},
   "source": [
    "Creating a dataset\n",
    "==================\n",
    "\n"
   ]
  },
  {
   "cell_type": "code",
   "execution_count": 27,
   "metadata": {},
   "outputs": [],
   "source": [
    "# initialize train data set: inputs and labels\n",
    "labels = np.array([ [1], [0], [0], [0]])\n",
    "inputs = np.array([[1, 1],[1,0],[0,1],[0,0]])"
   ]
  },
  {
   "cell_type": "markdown",
   "metadata": {},
   "source": [
    "Training the model\n",
    "==================\n"
   ]
  },
  {
   "cell_type": "code",
   "execution_count": 28,
   "metadata": {},
   "outputs": [
    {
     "name": "stdout",
     "output_type": "stream",
     "text": [
      "epoch 0/20 loss: 0.75\n",
      "epoch 1/20 loss: 0.25\n",
      "epoch 2/20 loss: 0.25\n",
      "epoch 3/20 loss: 0.0\n",
      "epoch 4/20 loss: 0.0\n",
      "epoch 5/20 loss: 0.0\n",
      "epoch 6/20 loss: 0.0\n",
      "epoch 7/20 loss: 0.0\n",
      "epoch 8/20 loss: 0.0\n",
      "epoch 9/20 loss: 0.0\n",
      "epoch 10/20 loss: 0.0\n",
      "epoch 11/20 loss: 0.0\n",
      "epoch 12/20 loss: 0.0\n",
      "epoch 13/20 loss: 0.0\n",
      "epoch 14/20 loss: 0.0\n",
      "epoch 15/20 loss: 0.0\n",
      "epoch 16/20 loss: 0.0\n",
      "epoch 17/20 loss: 0.0\n",
      "epoch 18/20 loss: 0.0\n",
      "epoch 19/20 loss: 0.0\n",
      "[[0.1]\n",
      " [0.1]]\n"
     ]
    },
    {
     "data": {
      "image/png": "[encoded data removed]",
      "text/plain": [
       "<Figure size 432x288 with 1 Axes>"
      ]
     },
     "metadata": {
      "needs_background": "light"
     },
     "output_type": "display_data"
    }
   ],
   "source": [
    "perceptron = Perceptron(2) \n",
    "perceptron.train(inputs,labels)\n",
    "print(perceptron.weights)"
   ]
  },
  {
   "cell_type": "markdown",
   "metadata": {},
   "source": [
    "Validating the model\n",
    "===================="
   ]
  },
  {
   "cell_type": "code",
   "execution_count": 5,
   "metadata": {},
   "outputs": [
    {
     "name": "stdout",
     "output_type": "stream",
     "text": [
      "[1]\n"
     ]
    }
   ],
   "source": [
    "# testing prediction\n",
    "test = np.array([1,1])\n",
    "print(perceptron.predict(test))"
   ]
  }
 ],
 "metadata": {
  "kernelspec": {
   "display_name": "Python (ch4)",
   "language": "python",
   "name": "ch4"
  },
  "language_info": {
   "codemirror_mode": {
    "name": "ipython",
    "version": 3
   },
   "file_extension": ".py",
   "mimetype": "text/x-python",
   "name": "python",
   "nbconvert_exporter": "python",
   "pygments_lexer": "ipython3",
   "version": "3.7.4"
  }
 },
 "nbformat": 4,
 "nbformat_minor": 4
}
