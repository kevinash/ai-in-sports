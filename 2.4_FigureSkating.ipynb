{
 "cells": [
  {
   "cell_type": "markdown",
   "metadata": {},
   "source": [
    "# 2.3 Angular Motion - Figure Skating\n",
    "\n",
    "For book, references and training materials, please check this project website [http://activefitness.ai/ai-in-sports-with-python](http://activefitness.ai/ai-in-sports-with-python).\n"
   ]
  },
  {
   "cell_type": "code",
   "execution_count": 2,
   "metadata": {},
   "outputs": [
    {
     "name": "stdout",
     "output_type": "stream",
     "text": [
      "m_arm: 3.30kg\n",
      "m_torso: 27.5kg\n",
      "Moment of inertia (arm): 0.539kg*m^2\n",
      "Moment of inertia (torso): 0.859kg*m^2\n",
      "Moment of inertia (out): 1.937kg*m^2\n",
      "Moment of inertia (in): 0.859kg*m^2\n",
      "Spin rate In: 2 Out:  5 rev/sec\n"
     ]
    }
   ],
   "source": [
    "import numpy as np\n",
    "import matplotlib.pyplot as plt\n",
    "%matplotlib inline\n",
    "\n",
    "g = 9.81 # m/s^2\n",
    "\n",
    "m_body = 55 # kg\n",
    "m_torso = 0.5 * m_body # kg\n",
    "m_arm = 0.06 * m_body # kg\n",
    "print(f\"m_arm: {m_arm:.2f}kg\\nm_torso: {m_torso:.1f}kg\")\n",
    "\n",
    "r_torso = 0.25 # m\n",
    "r_arm = 0.7 # m\n",
    "\n",
    "MOI_torso = (1./2.) * m_torso * r_torso**2\n",
    "MOI_arm = (1./3.) * m_arm * r_arm**2\n",
    "print(f\"Moment of inertia (arm): {MOI_arm:.3f}kg*m^2\")\n",
    "print(f\"Moment of inertia (torso): {MOI_torso:.3f}kg*m^2\")\n",
    "\n",
    "MOI_1 = MOI_arm*2 + MOI_torso\n",
    "MOI_2 = MOI_torso\n",
    "print(f\"Moment of inertia (out): {MOI_1:.3f}kg*m^2\")\n",
    "print(f\"Moment of inertia (in): {MOI_2:.3f}kg*m^2\")\n",
    "\n",
    "w1 = 2 # revolutions per second\n",
    "\n",
    "w2 = w1 * MOI_1 / MOI_2\n",
    "\n",
    "print(f\"Spin rate In: {w1:.0f} Out:  {w2:.0f} rev/sec\")"
   ]
  },
  {
   "cell_type": "code",
   "execution_count": 11,
   "metadata": {},
   "outputs": [
    {
     "name": "stdout",
     "output_type": "stream",
     "text": [
      "Parameters: 31505325\n"
     ]
    }
   ],
   "source": [
    "import torch\n",
    "import torchvision\n",
    "import torchvision.models as models\n",
    "\n",
    "model = models.video.r2plus1d_18(pretrained=True)\n",
    "model.eval()\n",
    "\n",
    "params_total = sum(p.numel() for p in model.parameters() if p.requires_grad)\n",
    "print(f'Parameters: {params_total}')"
   ]
  }
 ],
 "metadata": {
  "kernelspec": {
   "display_name": "rl",
   "language": "python",
   "name": "rl"
  },
  "language_info": {
   "codemirror_mode": {
    "name": "ipython",
    "version": 3
   },
   "file_extension": ".py",
   "mimetype": "text/x-python",
   "name": "python",
   "nbconvert_exporter": "python",
   "pygments_lexer": "ipython3",
   "version": "3.7.5"
  }
 },
 "nbformat": 4,
 "nbformat_minor": 4
}
